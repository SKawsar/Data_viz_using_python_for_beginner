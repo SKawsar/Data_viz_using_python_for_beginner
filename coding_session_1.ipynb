{
 "cells": [
  {
   "cell_type": "markdown",
   "metadata": {},
   "source": [
    "# Data Visualization using Python for the Beginners\n",
    "\n",
    "#### Instructors:\n",
    "**Md Shahidullah Kawsar**\n",
    "<br>Jr. Data Scientist, IDARE, Houston, TX, USA\n",
    "<br>MS in Electrical Engineering, University of South Florida, FL, USA\n",
    "<br>KUET EEE 2K10\n",
    "\n",
    "\n",
    "**Tasnim Ara Islam**\n",
    "<br>MS in Computer Science, Boise State University, ID, USA\n",
    "<br>KUET CSE 2K10\n",
    "\n",
    "#### Objectives:\n",
    "1. Pie Chart\n",
    "2. Bar plot\n",
    "\n",
    "### What is customer churn?\n",
    "Source: DataCamp and Mark Peterson\n",
    "\n",
    "When an existing customer, user, player, subscriber or any kind of return client stops doing business or ends the relationship with a company is called customer churn.\n",
    "\n",
    "**Contractual churn:** When a customer is under contract for a service and decides to cancel their service. Example: Cable TV, SaaS products (Software as a Service e.g. Dropbox).\n",
    "\n",
    "**Voluntary churn:** When a user voluntarily cancels a service and includes prepaid cell phones, streaming subscriptions.\n",
    "\n",
    "**Non-contractual churn:** When a customer is not under contract for a service and includes customer loyality at a retail location or online browsing. \n",
    "\n",
    "**Involuntary churn:** When a churn occurs not at the request of the customer. For example: credit card expiration, utilities being shut off by the provider.\n",
    "\n",
    "Most likely, you as a customer have cancelled a service for a variety of reasons including lack of usage, poor service or better price. "
   ]
  },
  {
   "cell_type": "code",
   "execution_count": 19,
   "metadata": {},
   "outputs": [],
   "source": [
    "# required librairies for data analysis\n",
    "import pandas as pd\n",
    "import numpy as np\n",
    "\n",
    "# required library for data visualization\n",
    "import matplotlib.pyplot as plt"
   ]
  },
  {
   "cell_type": "markdown",
   "metadata": {},
   "source": [
    "Dataset: cellular usage dataset that consists of records of actual cell phone that include specific features such as\n",
    "\n",
    "1. **Account_Length**: the number of days the customer has the subscription with the telecom company\n",
    "\n",
    "2. **Vmail_Message**: the total number of voicemails the customer has sent\n",
    "\n",
    "3. **Total_mins**: the total number of minutes the customer has talked over the phone\n",
    "\n",
    "4. **CustServ_Calls**: the number of customer service calls the customer made\n",
    "\n",
    "5. **Churn**: yes and no - indicating whether or not the customer has churned\n",
    "\n",
    "6. **Intl_Plan**: yes and no - indicating whether or not the customer has international plan or not\n",
    "\n",
    "7. **Vmail_Plan**: yes and no - indicating whether or not the customer has voicemail plan or not\n",
    "\n",
    "8. **Total_calls**: the total number of calls the customer has made\n",
    "\n",
    "9. **Total_charges**: the total amount of bill in $ the customer has paid"
   ]
  },
  {
   "cell_type": "code",
   "execution_count": 20,
   "metadata": {},
   "outputs": [
    {
     "data": {
      "text/html": [
       "<div>\n",
       "<style scoped>\n",
       "    .dataframe tbody tr th:only-of-type {\n",
       "        vertical-align: middle;\n",
       "    }\n",
       "\n",
       "    .dataframe tbody tr th {\n",
       "        vertical-align: top;\n",
       "    }\n",
       "\n",
       "    .dataframe thead th {\n",
       "        text-align: right;\n",
       "    }\n",
       "</style>\n",
       "<table border=\"1\" class=\"dataframe\">\n",
       "  <thead>\n",
       "    <tr style=\"text-align: right;\">\n",
       "      <th></th>\n",
       "      <th>Account_Length</th>\n",
       "      <th>Vmail_Message</th>\n",
       "      <th>CustServ_Calls</th>\n",
       "      <th>Churn</th>\n",
       "      <th>Intl_Plan</th>\n",
       "      <th>Vmail_Plan</th>\n",
       "      <th>Total_mins</th>\n",
       "      <th>Total_calls</th>\n",
       "      <th>Total_charges</th>\n",
       "    </tr>\n",
       "  </thead>\n",
       "  <tbody>\n",
       "    <tr>\n",
       "      <th>0</th>\n",
       "      <td>128</td>\n",
       "      <td>25</td>\n",
       "      <td>1</td>\n",
       "      <td>no</td>\n",
       "      <td>no</td>\n",
       "      <td>yes</td>\n",
       "      <td>717.2</td>\n",
       "      <td>303</td>\n",
       "      <td>320.26</td>\n",
       "    </tr>\n",
       "    <tr>\n",
       "      <th>1</th>\n",
       "      <td>107</td>\n",
       "      <td>26</td>\n",
       "      <td>1</td>\n",
       "      <td>no</td>\n",
       "      <td>no</td>\n",
       "      <td>yes</td>\n",
       "      <td>625.2</td>\n",
       "      <td>332</td>\n",
       "      <td>313.64</td>\n",
       "    </tr>\n",
       "    <tr>\n",
       "      <th>2</th>\n",
       "      <td>137</td>\n",
       "      <td>0</td>\n",
       "      <td>0</td>\n",
       "      <td>no</td>\n",
       "      <td>no</td>\n",
       "      <td>no</td>\n",
       "      <td>539.4</td>\n",
       "      <td>333</td>\n",
       "      <td>224.89</td>\n",
       "    </tr>\n",
       "    <tr>\n",
       "      <th>3</th>\n",
       "      <td>84</td>\n",
       "      <td>0</td>\n",
       "      <td>2</td>\n",
       "      <td>no</td>\n",
       "      <td>yes</td>\n",
       "      <td>no</td>\n",
       "      <td>564.8</td>\n",
       "      <td>255</td>\n",
       "      <td>263.70</td>\n",
       "    </tr>\n",
       "    <tr>\n",
       "      <th>4</th>\n",
       "      <td>75</td>\n",
       "      <td>0</td>\n",
       "      <td>3</td>\n",
       "      <td>no</td>\n",
       "      <td>yes</td>\n",
       "      <td>no</td>\n",
       "      <td>512.0</td>\n",
       "      <td>359</td>\n",
       "      <td>238.99</td>\n",
       "    </tr>\n",
       "  </tbody>\n",
       "</table>\n",
       "</div>"
      ],
      "text/plain": [
       "   Account_Length  Vmail_Message  CustServ_Calls Churn Intl_Plan Vmail_Plan  \\\n",
       "0             128             25               1    no        no        yes   \n",
       "1             107             26               1    no        no        yes   \n",
       "2             137              0               0    no        no         no   \n",
       "3              84              0               2    no       yes         no   \n",
       "4              75              0               3    no       yes         no   \n",
       "\n",
       "   Total_mins  Total_calls  Total_charges  \n",
       "0       717.2          303         320.26  \n",
       "1       625.2          332         313.64  \n",
       "2       539.4          333         224.89  \n",
       "3       564.8          255         263.70  \n",
       "4       512.0          359         238.99  "
      ]
     },
     "metadata": {},
     "output_type": "display_data"
    }
   ],
   "source": [
    "# import the data \n",
    "# reading the csv file\n",
    "# load the input file\n",
    "telecom = pd.read_csv('telecom_data.csv')\n",
    "\n",
    "# let's look inside the data\n",
    "display(telecom.head())"
   ]
  },
  {
   "cell_type": "markdown",
   "metadata": {},
   "source": [
    "# Good data or bad data?"
   ]
  },
  {
   "cell_type": "code",
   "execution_count": 21,
   "metadata": {},
   "outputs": [
    {
     "name": "stdout",
     "output_type": "stream",
     "text": [
      "<class 'pandas.core.frame.DataFrame'>\n",
      "RangeIndex: 3333 entries, 0 to 3332\n",
      "Data columns (total 9 columns):\n",
      " #   Column          Non-Null Count  Dtype  \n",
      "---  ------          --------------  -----  \n",
      " 0   Account_Length  3333 non-null   int64  \n",
      " 1   Vmail_Message   3333 non-null   int64  \n",
      " 2   CustServ_Calls  3333 non-null   int64  \n",
      " 3   Churn           3333 non-null   object \n",
      " 4   Intl_Plan       3333 non-null   object \n",
      " 5   Vmail_Plan      3333 non-null   object \n",
      " 6   Total_mins      3333 non-null   float64\n",
      " 7   Total_calls     3333 non-null   int64  \n",
      " 8   Total_charges   3333 non-null   float64\n",
      "dtypes: float64(2), int64(4), object(3)\n",
      "memory usage: 234.5+ KB\n",
      "None\n"
     ]
    }
   ],
   "source": [
    "# let's check the data types\n",
    "# what are the features?\n",
    "# is there any missing value?\n",
    "\n",
    "print(telecom.info())"
   ]
  },
  {
   "cell_type": "code",
   "execution_count": 22,
   "metadata": {},
   "outputs": [
    {
     "data": {
      "text/html": [
       "<div>\n",
       "<style scoped>\n",
       "    .dataframe tbody tr th:only-of-type {\n",
       "        vertical-align: middle;\n",
       "    }\n",
       "\n",
       "    .dataframe tbody tr th {\n",
       "        vertical-align: top;\n",
       "    }\n",
       "\n",
       "    .dataframe thead th {\n",
       "        text-align: right;\n",
       "    }\n",
       "</style>\n",
       "<table border=\"1\" class=\"dataframe\">\n",
       "  <thead>\n",
       "    <tr style=\"text-align: right;\">\n",
       "      <th></th>\n",
       "      <th>Account_Length</th>\n",
       "      <th>Vmail_Message</th>\n",
       "      <th>CustServ_Calls</th>\n",
       "      <th>Total_mins</th>\n",
       "      <th>Total_calls</th>\n",
       "      <th>Total_charges</th>\n",
       "    </tr>\n",
       "  </thead>\n",
       "  <tbody>\n",
       "    <tr>\n",
       "      <th>count</th>\n",
       "      <td>3333.000000</td>\n",
       "      <td>3333.000000</td>\n",
       "      <td>3333.000000</td>\n",
       "      <td>3333.000000</td>\n",
       "      <td>3333.000000</td>\n",
       "      <td>3333.000000</td>\n",
       "    </tr>\n",
       "    <tr>\n",
       "      <th>mean</th>\n",
       "      <td>101.064806</td>\n",
       "      <td>8.099010</td>\n",
       "      <td>1.562856</td>\n",
       "      <td>591.864776</td>\n",
       "      <td>305.137114</td>\n",
       "      <td>260.321791</td>\n",
       "    </tr>\n",
       "    <tr>\n",
       "      <th>std</th>\n",
       "      <td>39.822106</td>\n",
       "      <td>13.688365</td>\n",
       "      <td>1.315491</td>\n",
       "      <td>89.954251</td>\n",
       "      <td>34.448164</td>\n",
       "      <td>53.810896</td>\n",
       "    </tr>\n",
       "    <tr>\n",
       "      <th>min</th>\n",
       "      <td>1.000000</td>\n",
       "      <td>0.000000</td>\n",
       "      <td>0.000000</td>\n",
       "      <td>284.300000</td>\n",
       "      <td>191.000000</td>\n",
       "      <td>68.370000</td>\n",
       "    </tr>\n",
       "    <tr>\n",
       "      <th>25%</th>\n",
       "      <td>74.000000</td>\n",
       "      <td>0.000000</td>\n",
       "      <td>1.000000</td>\n",
       "      <td>531.500000</td>\n",
       "      <td>282.000000</td>\n",
       "      <td>224.220000</td>\n",
       "    </tr>\n",
       "    <tr>\n",
       "      <th>50%</th>\n",
       "      <td>101.000000</td>\n",
       "      <td>0.000000</td>\n",
       "      <td>1.000000</td>\n",
       "      <td>593.600000</td>\n",
       "      <td>305.000000</td>\n",
       "      <td>260.560000</td>\n",
       "    </tr>\n",
       "    <tr>\n",
       "      <th>75%</th>\n",
       "      <td>127.000000</td>\n",
       "      <td>20.000000</td>\n",
       "      <td>2.000000</td>\n",
       "      <td>652.400000</td>\n",
       "      <td>328.000000</td>\n",
       "      <td>295.410000</td>\n",
       "    </tr>\n",
       "    <tr>\n",
       "      <th>max</th>\n",
       "      <td>243.000000</td>\n",
       "      <td>51.000000</td>\n",
       "      <td>9.000000</td>\n",
       "      <td>885.000000</td>\n",
       "      <td>416.000000</td>\n",
       "      <td>460.630000</td>\n",
       "    </tr>\n",
       "  </tbody>\n",
       "</table>\n",
       "</div>"
      ],
      "text/plain": [
       "       Account_Length  Vmail_Message  CustServ_Calls   Total_mins  \\\n",
       "count     3333.000000    3333.000000     3333.000000  3333.000000   \n",
       "mean       101.064806       8.099010        1.562856   591.864776   \n",
       "std         39.822106      13.688365        1.315491    89.954251   \n",
       "min          1.000000       0.000000        0.000000   284.300000   \n",
       "25%         74.000000       0.000000        1.000000   531.500000   \n",
       "50%        101.000000       0.000000        1.000000   593.600000   \n",
       "75%        127.000000      20.000000        2.000000   652.400000   \n",
       "max        243.000000      51.000000        9.000000   885.000000   \n",
       "\n",
       "       Total_calls  Total_charges  \n",
       "count  3333.000000    3333.000000  \n",
       "mean    305.137114     260.321791  \n",
       "std      34.448164      53.810896  \n",
       "min     191.000000      68.370000  \n",
       "25%     282.000000     224.220000  \n",
       "50%     305.000000     260.560000  \n",
       "75%     328.000000     295.410000  \n",
       "max     416.000000     460.630000  "
      ]
     },
     "metadata": {},
     "output_type": "display_data"
    }
   ],
   "source": [
    "# let's check the statistical measures of each feature\n",
    "display(telecom.describe())"
   ]
  },
  {
   "cell_type": "markdown",
   "metadata": {},
   "source": [
    "# Pie Chart using pandas\n",
    "\n",
    "### 1. How many customers have churned?"
   ]
  },
  {
   "cell_type": "code",
   "execution_count": 23,
   "metadata": {},
   "outputs": [
    {
     "name": "stdout",
     "output_type": "stream",
     "text": [
      "no     2850\n",
      "yes     483\n",
      "Name: Churn, dtype: int64\n"
     ]
    },
    {
     "data": {
      "image/png": "[encoded data removed]",
      "text/plain": [
       "<Figure size 432x288 with 1 Axes>"
      ]
     },
     "metadata": {},
     "output_type": "display_data"
    }
   ],
   "source": [
    "# find the number of unique values in the 'Churn' columns\n",
    "unique_churn = telecom['Churn'].value_counts()\n",
    "print(unique_churn)\n",
    "\n",
    "# let's visualize the number of unique values in the 'Churn' columns in a 'pie' chart\n",
    "unique_churn.plot(kind='pie')\n",
    "\n",
    "# set the title of the image\n",
    "plt.title(\"Customer Churn\")\n",
    "\n",
    "# display the figure\n",
    "plt.show()"
   ]
  },
  {
   "cell_type": "markdown",
   "metadata": {},
   "source": [
    "### 2. How many customer's have international plan?"
   ]
  },
  {
   "cell_type": "code",
   "execution_count": 24,
   "metadata": {},
   "outputs": [
    {
     "name": "stdout",
     "output_type": "stream",
     "text": [
      "no     3010\n",
      "yes     323\n",
      "Name: Intl_Plan, dtype: int64\n"
     ]
    },
    {
     "data": {
      "image/png": "[encoded data removed]",
      "text/plain": [
       "<Figure size 432x288 with 1 Axes>"
      ]
     },
     "metadata": {},
     "output_type": "display_data"
    }
   ],
   "source": [
    "# find the number of unique values in the 'Intl_Plan' columns\n",
    "unique_Intl_Plan = telecom['Intl_Plan'].value_counts()\n",
    "print(unique_Intl_Plan)\n",
    "\n",
    "# let's visualize the number of unique values in the 'Intl_Plan' column in a 'pie' chart\n",
    "unique_Intl_Plan.plot(kind='pie')\n",
    "plt.title(\"International Plan\")\n",
    "plt.show()"
   ]
  },
  {
   "cell_type": "markdown",
   "metadata": {},
   "source": [
    "### 3. How many customer's have voicemail plan?"
   ]
  },
  {
   "cell_type": "code",
   "execution_count": 25,
   "metadata": {},
   "outputs": [
    {
     "name": "stdout",
     "output_type": "stream",
     "text": [
      "no     2411\n",
      "yes     922\n",
      "Name: Vmail_Plan, dtype: int64\n"
     ]
    },
    {
     "data": {
      "image/png": "[encoded data removed]",
      "text/plain": [
       "<Figure size 432x288 with 1 Axes>"
      ]
     },
     "metadata": {
      "needs_background": "light"
     },
     "output_type": "display_data"
    }
   ],
   "source": [
    "# find the number of unique values in the 'Vmail_Plan' columns\n",
    "unique_Vmail_Plan = telecom['Vmail_Plan'].value_counts()\n",
    "print(unique_Vmail_Plan)\n",
    "\n",
    "# let's visualize the number of unique values in the 'Vmail_Plan' column in a 'pie' chart\n",
    "unique_Vmail_Plan.plot(kind='bar')\n",
    "plt.title(\"Voicemail Plan\")\n",
    "plt.show()"
   ]
  },
  {
   "cell_type": "markdown",
   "metadata": {},
   "source": [
    "# Can we show all these pie-charts altogether?"
   ]
  },
  {
   "cell_type": "code",
   "execution_count": 26,
   "metadata": {},
   "outputs": [
    {
     "data": {
      "image/png": "[encoded data removed]",
      "text/plain": [
       "<Figure size 720x432 with 3 Axes>"
      ]
     },
     "metadata": {},
     "output_type": "display_data"
    }
   ],
   "source": [
    "plt.figure(figsize=(10,6))\n",
    "plt.subplot(1, 3, 1)\n",
    "unique_churn.plot(kind='pie')\n",
    "plt.title(\"Customer Churn\")\n",
    "\n",
    "plt.subplot(1, 3, 2)\n",
    "unique_Intl_Plan.plot(kind='pie')\n",
    "plt.title(\"International Plan\")\n",
    "\n",
    "plt.subplot(1, 3, 3)\n",
    "unique_Vmail_Plan.plot(kind='pie')\n",
    "plt.title(\"Voicemail Plan\")\n",
    "\n",
    "plt.show()"
   ]
  },
  {
   "cell_type": "code",
   "execution_count": null,
   "metadata": {},
   "outputs": [],
   "source": []
  }
 ],
 "metadata": {
  "kernelspec": {
   "display_name": "Python 3",
   "language": "python",
   "name": "python3"
  },
  "language_info": {
   "codemirror_mode": {
    "name": "ipython",
    "version": 3
   },
   "file_extension": ".py",
   "mimetype": "text/x-python",
   "name": "python",
   "nbconvert_exporter": "python",
   "pygments_lexer": "ipython3",
   "version": "3.7.1"
  }
 },
 "nbformat": 4,
 "nbformat_minor": 4
}
